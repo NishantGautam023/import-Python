{
 "cells": [
  {
   "cell_type": "markdown",
   "metadata": {},
   "source": [
    " ## Check Palindrome\n",
    "Send Feedback\n",
    "Given a String s, check it its palindrome. Return true if string is palindrome, else return false.\n",
    " ##  Palindrome strings are those, where string s and its reverse is exactly same.\n",
    "Input Format :\n",
    " String S\n",
    "Output Format :\n",
    "\"true\" if S is palindrome, else \"false\"\n",
    "Sample Input 1 :\n",
    "abcdcba\n",
    "Sample Output 1 :\n",
    "true "
   ]
  },
  {
   "cell_type": "code",
   "execution_count": 4,
   "metadata": {},
   "outputs": [
    {
     "name": "stdout",
     "output_type": "stream",
     "text": [
      "mam\n",
      "true\n"
     ]
    }
   ],
   "source": [
    "String = str(input())\n",
    "if (String == String[::-1]):\n",
    "    print(\"true\")\n",
    "else:\n",
    "    print(\"false\")"
   ]
  },
  {
   "cell_type": "code",
   "execution_count": 5,
   "metadata": {},
   "outputs": [],
   "source": [
    "## For number"
   ]
  },
  {
   "cell_type": "code",
   "execution_count": 6,
   "metadata": {},
   "outputs": [
    {
     "name": "stdout",
     "output_type": "stream",
     "text": [
      "Enter a number:121\n",
      "The number is palindrome!\n"
     ]
    }
   ],
   "source": [
    "num=int(input(\"Enter a number:\"))\n",
    "temp=num\n",
    "rev=0\n",
    "while(num>0):\n",
    "    dig=num%10\n",
    "    rev=rev*10+dig\n",
    "    num=num//10\n",
    "if(temp==rev):\n",
    "    print(\"The number is palindrome!\")\n",
    "else:\n",
    "    print(\"Not a palindrome!\")"
   ]
  },
  {
   "cell_type": "code",
   "execution_count": 7,
   "metadata": {},
   "outputs": [
    {
     "name": "stdout",
     "output_type": "stream",
     "text": [
      "True\n"
     ]
    }
   ],
   "source": [
    "a = \"abce\" >= \"abcdef\"\n",
    "print(a)"
   ]
  },
  {
   "cell_type": "markdown",
   "metadata": {},
   "source": [
    "## Replacing Character in a String\n",
    "\n",
    "Given a string abcda , replace every a with e...\n",
    "str = \"abcda\"\n",
    "replace_str = \"ebcde\""
   ]
  },
  {
   "cell_type": "code",
   "execution_count": 11,
   "metadata": {},
   "outputs": [],
   "source": [
    "## since strings are immutable we have to make a new String. so that we can change the re\n",
    "# ference of the string"
   ]
  },
  {
   "cell_type": "raw",
   "metadata": {},
   "source": [
    "str = \"abcd\"\n",
    "replaceChar(str, chr1, chr2)"
   ]
  },
  {
   "cell_type": "code",
   "execution_count": 15,
   "metadata": {},
   "outputs": [
    {
     "name": "stdout",
     "output_type": "stream",
     "text": [
      " dpple\n"
     ]
    }
   ],
   "source": [
    "def replace(str, char1,char2):# replacing every occurance of char1 into char2\n",
    "    newStr = \" \" # since strings are immutable we will make a new String\n",
    "    for char in str: # iterating on each character in string\n",
    "        if (char == char1): # if current character == char1\n",
    "            newStr += char2\n",
    "        else:\n",
    "            newStr += char\n",
    "    return newStr        \n",
    "\n",
    "\n",
    "\n",
    "str = \"apple\" # we cannot make changes into this string as string is immutable.\n",
    "# we have to store the reference of str ti newStr, \n",
    "str = replace(str,'a', 'd') # storing the reference into str, where a is char1 and d char2\n",
    "print(str)"
   ]
  },
  {
   "cell_type": "code",
   "execution_count": 16,
   "metadata": {},
   "outputs": [
    {
     "name": "stdout",
     "output_type": "stream",
     "text": [
      "ammle\n"
     ]
    }
   ],
   "source": [
    "a=\"apple\"\n",
    "a = a.replace(\"p\",\"m\")\n",
    "print(a)"
   ]
  },
  {
   "cell_type": "code",
   "execution_count": null,
   "metadata": {},
   "outputs": [],
   "source": []
  }
 ],
 "metadata": {
  "kernelspec": {
   "display_name": "Python 3",
   "language": "python",
   "name": "python3"
  },
  "language_info": {
   "codemirror_mode": {
    "name": "ipython",
    "version": 3
   },
   "file_extension": ".py",
   "mimetype": "text/x-python",
   "name": "python",
   "nbconvert_exporter": "python",
   "pygments_lexer": "ipython3",
   "version": "3.7.4"
  }
 },
 "nbformat": 4,
 "nbformat_minor": 2
}
